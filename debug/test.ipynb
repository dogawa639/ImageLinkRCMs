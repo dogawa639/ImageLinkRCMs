{
 "cells": [
  {
   "cell_type": "code",
   "execution_count": 3,
   "id": "initial_id",
   "metadata": {
    "collapsed": true,
    "ExecuteTime": {
     "end_time": "2024-01-23T13:29:37.167089Z",
     "start_time": "2024-01-23T13:29:36.707690Z"
    }
   },
   "outputs": [],
   "source": [
    "import scipy\n",
    "import numpy as np\n",
    "import matplotlib.pyplot as plt"
   ]
  },
  {
   "cell_type": "code",
   "outputs": [
    {
     "name": "stdout",
     "output_type": "stream",
     "text": [
      "[1.00000517 2.0000771  2.99991198]\n",
      "10173.18359229197\n",
      "0.0009748632769508094\n"
     ]
    }
   ],
   "source": [
    "## ligression coeff estimation test\n",
    "theta_true = np.array([1, 2, 3])\n",
    "data_num = 1000\n",
    "x = np.random.rand(data_num, 3)\n",
    "y = np.dot(x, theta_true) + 0.001*np.random.randn(data_num)\n",
    "\n",
    "loss_fn = lambda theta: np.sum((y - np.dot(x, theta))**2)\n",
    "\n",
    "fprime = lambda x: scipy.optimize.approx_fprime(x, loss_fn)\n",
    "opt_kwargs_ped = {\"method\": \"BFGS\", \"jac\": fprime, \"tol\": 1e-6}\n",
    "\n",
    "theta_init = np.zeros(3, dtype=np.float32)\n",
    "res = scipy.optimize.minimize(loss_fn, theta_init, **opt_kwargs_ped)\n",
    "theta_est = res.x\n",
    "print(theta_est)\n",
    "print(loss_fn(theta_init))\n",
    "print(loss_fn(theta_est))"
   ],
   "metadata": {
    "collapsed": false,
    "ExecuteTime": {
     "end_time": "2024-01-23T13:33:11.518546Z",
     "start_time": "2024-01-23T13:33:11.513328Z"
    }
   },
   "id": "bb752d9436028271",
   "execution_count": 13
  },
  {
   "cell_type": "code",
   "outputs": [
    {
     "data": {
      "text/plain": "array([0.0040892 , 0.00430984, 0.00426536])"
     },
     "execution_count": 16,
     "metadata": {},
     "output_type": "execute_result"
    }
   ],
   "source": [
    "np.diag(res.hess_inv)\n"
   ],
   "metadata": {
    "collapsed": false,
    "ExecuteTime": {
     "end_time": "2024-01-23T13:34:19.879582Z",
     "start_time": "2024-01-23T13:34:19.874942Z"
    }
   },
   "id": "96cc905bf31f0a22",
   "execution_count": 16
  },
  {
   "cell_type": "code",
   "outputs": [],
   "source": [],
   "metadata": {
    "collapsed": false
   },
   "id": "49b80665ec0936d7"
  }
 ],
 "metadata": {
  "kernelspec": {
   "display_name": "Python 3",
   "language": "python",
   "name": "python3"
  },
  "language_info": {
   "codemirror_mode": {
    "name": "ipython",
    "version": 2
   },
   "file_extension": ".py",
   "mimetype": "text/x-python",
   "name": "python",
   "nbconvert_exporter": "python",
   "pygments_lexer": "ipython2",
   "version": "2.7.6"
  }
 },
 "nbformat": 4,
 "nbformat_minor": 5
}
