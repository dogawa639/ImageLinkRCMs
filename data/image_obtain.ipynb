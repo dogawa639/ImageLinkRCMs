{
 "cells": [
  {
   "cell_type": "code",
   "execution_count": 1,
   "metadata": {
    "ExecuteTime": {
     "end_time": "2023-11-19T03:17:58.156599Z",
     "start_time": "2023-11-19T03:17:57.171272Z"
    }
   },
   "outputs": [
    {
     "name": "stdout",
     "output_type": "stream",
     "text": [
      "/Users/dogawa/PycharmProjects/GANs/data\n"
     ]
    }
   ],
   "source": [
    "import numpy as np\n",
    "import pandas as pd\n",
    "import matplotlib.pyplot as plt\n",
    "import cv2\n",
    "\n",
    "import time\n",
    "import os\n",
    "\n",
    "from urllib.request import urlopen\n",
    "\n",
    "def urlread(url, flags=cv2.IMREAD_UNCHANGED):\n",
    "    response = urlopen(url)\n",
    "    img = np.asarray(bytearray(response.read()), dtype=np.uint8)\n",
    "    img = cv2.imdecode(img, flags)\n",
    "    img = cv2.cvtColor(img, cv2.COLOR_BGR2RGB)\n",
    "    return img\n",
    "\n",
    "print(os.getcwd())"
   ]
  },
  {
   "cell_type": "code",
   "execution_count": 2,
   "metadata": {
    "ExecuteTime": {
     "end_time": "2023-11-19T03:17:59.179962Z",
     "start_time": "2023-11-19T03:17:59.174979Z"
    }
   },
   "outputs": [],
   "source": [
    "def get_image(path, z, xs, ys, tmp_dir=None, save_file=None):\n",
    "    img_all = np.zeros((256*len(ys), 256*len(xs), 3), dtype=np.uint8)\n",
    "\n",
    "    for i, y in enumerate(ys):\n",
    "        for j, x in enumerate(xs):\n",
    "            url = path.format(z, x, y)\n",
    "            img = urlread(url)  # (3, H, W) RGB\n",
    "            img = cv2.cvtColor(img, cv2.COLOR_RGB2BGR)\n",
    "            time.sleep(1.0)\n",
    "            if tmp_dir is not None:\n",
    "                cv2.imwrite(os.path.join(tmp_dir, f\"{i}_{j}_{x}_{y}.png\"), img)\n",
    "            img_all[256*i:256*(i+1), 256*j:256*(j+1), :] = img\n",
    "    \n",
    "    if save_file is not None:\n",
    "        cv2.imwrite(save_file, img_all)\n",
    "    return img_all"
   ]
  },
  {
   "cell_type": "code",
   "execution_count": 3,
   "metadata": {
    "ExecuteTime": {
     "end_time": "2023-11-19T03:18:02.602750Z",
     "start_time": "2023-11-19T03:18:00.418359Z"
    }
   },
   "outputs": [
    {
     "name": "stdout",
     "output_type": "stream",
     "text": [
      "(256, 256, 3)\n"
     ]
    }
   ],
   "source": [
    "path_map = \"https://cyberjapandata.gsi.go.jp/xyz/std/{}/{}/{}.png\"\n",
    "path_sat = \"https://cyberjapandata.gsi.go.jp/xyz/seamlessphoto/{}/{}/{}.jpg\"\n",
    "#z, xs, ys = 18, list(range(227734, 227760)), list(range(104849, 104865))\n",
    "z, xs, ys = 18, list(range(227734, 227735)), list(range(104849, 104850))\n",
    "\n",
    "img_all = get_image(path_map, z, xs, ys, tmp_dir=None, save_file=\"./png/normal_map.png\")\n",
    "img_all = get_image(path_sat, z, xs, ys, tmp_dir=None, save_file=\"./png/normal_sat.png\")\n",
    "print(img_all.shape)"
   ]
  },
  {
   "cell_type": "code",
   "execution_count": null,
   "outputs": [],
   "source": [
    "1\n"
   ],
   "metadata": {
    "collapsed": false,
    "ExecuteTime": {
     "end_time": "2023-11-19T03:14:51.047589Z",
     "start_time": "2023-11-19T03:14:51.045316Z"
    }
   }
  },
  {
   "cell_type": "code",
   "execution_count": null,
   "outputs": [],
   "source": [],
   "metadata": {
    "collapsed": false
   }
  }
 ],
 "metadata": {
  "language_info": {
   "name": "python"
  },
  "kernelspec": {
   "name": "python3",
   "language": "python",
   "display_name": "Python 3 (ipykernel)"
  }
 },
 "nbformat": 4,
 "nbformat_minor": 2
}
